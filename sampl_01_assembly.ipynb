{
 "cells": [
  {
   "cell_type": "markdown",
   "metadata": {},
   "source": [
    "# Individual Assemblies\n",
    "Because everything clumped together is not good"
   ]
  },
  {
   "cell_type": "markdown",
   "metadata": {},
   "source": [
    "## Assembly\n",
    "Flye seems to still not be working properly, use raven"
   ]
  },
  {
   "cell_type": "code",
   "execution_count": null,
   "metadata": {
    "vscode": {
     "languageId": "shellscript"
    }
   },
   "outputs": [],
   "source": [
    "#========== RAVEN ASSEMBLER ==========\n",
    "# Raven 1.8.1\n",
    "conda deactivate\n",
    "conda activate raven_racon\n",
    "mkdir 02_assembly_raven\n",
    "\n",
    "for barcode in $(find /data/WINONA/202208_exxon_fastq/ -maxdepth 1 -name \"sample*\" -type f); do\n",
    "    file_name=$(basename $barcode)\n",
    "    sample_name=${file_name%.*}\n",
    "    \n",
    "    echo $sample_name\n",
    "    raven -p 3 -t 50 $barcode > 02_assembly_raven/${sample_name}_raven_assembled.fasta\n",
    "done\n"
   ]
  },
  {
   "cell_type": "code",
   "execution_count": null,
   "metadata": {
    "vscode": {
     "languageId": "shellscript"
    }
   },
   "outputs": [],
   "source": [
    "#========== MEDAKA NORMAL ==========\n",
    "cp /data/WINONA/202208_exxon_sepsamples/02_assembly_raven ./\n",
    "mkdir 03_correction_medaka\n",
    "\n",
    "for barcode in $(find /data/WINONA/202208_exxon_fastq/ -maxdepth 1 -name \"sample*\" -type f); do\n",
    "    file_name=$(basename $barcode)\n",
    "    sample_name=${file_name%.*}\n",
    "    \n",
    "    echo $sample_name\n",
    "\n",
    "    medaka_consensus \\\n",
    "    -i $barcode \\\n",
    "    -d ./02_assembly_raven/${sample_name}_raven_assembled.fasta \\\n",
    "    -o 03_correction_medaka/$sample_name \\\n",
    "    -m r941_min_sup_g507 \\\n",
    "    -t 32\n",
    "\n",
    "    #Check depth\n",
    "    samtools depth -a 03_correction_medaka/$sample_name/calls_to_draft.bam > 03_correction_medaka/$sample_name/depth.txt\n",
    "    cat 03_correction_medaka/$sample_name/depth.txt | awk -F'\\t' '{ sum += $3 } END { print sum / NR }' > 03_correction_medaka/$sample_name/mean_coverage.txt\n",
    "done\n",
    "\n"
   ]
  },
  {
   "cell_type": "code",
   "execution_count": null,
   "metadata": {
    "vscode": {
     "languageId": "shellscript"
    }
   },
   "outputs": [],
   "source": [
    "# MV TO WINONA\n",
    "sudo mv ./* /data3/WINONA3/202208_exxon_septreatment/\n",
    "cd /data3/WINONA3/202208_exxon_septreatment/\n",
    "sudo chown -R winona:winona ./*\n"
   ]
  },
  {
   "cell_type": "code",
   "execution_count": null,
   "metadata": {
    "vscode": {
     "languageId": "shellscript"
    }
   },
   "outputs": [],
   "source": [
    "# MAP SAMPLES TO CONTIGS\n",
    "mkdir 04_mapped_samples\n",
    "for barcode in $(find /data/WINONA/202208_exxon_fastq/ -maxdepth 1 -name \"sample*\" -type f); do\n",
    "    file_name=$(basename $barcode)\n",
    "    sample_name=${file_name%.*}\n",
    "    mapped=./04_mapped_samples/${sample_name}_mapped.sam\n",
    "    bam_raw=./04_mapped_samples/${sample_name}_raw.bam\n",
    "    bam_sorted=./04_mapped_samples/${sample_name}_sorted.bam\n",
    "    bam_indexed=./04_mapped_samples/${sample_name}_sorted.bam.bai\n",
    "    contigs=03_correction_medaka_treated/consensus.fasta\n",
    "\n",
    "    echo $sample_name\n",
    "    echo \"using\"\n",
    "    echo $contigssam\n",
    "    \n",
    "    minimap2 -ax map-ont $contigs $barcode -t 64 > $mapped\n",
    "    samtools view -o $bam_raw -F 4 -@ 64 -bS $mapped \n",
    "    samtools sort -o $bam_sorted -@ 64 $bam_raw \n",
    "    samtools index -b -@ 64 $bam_sorted $bam_indexed \n",
    "done\n",
    "\n"
   ]
  }
 ],
 "metadata": {
  "kernelspec": {
   "display_name": "Python 3.9.5 ('base')",
   "language": "python",
   "name": "python3"
  },
  "language_info": {
   "name": "python",
   "version": "3.9.5"
  },
  "orig_nbformat": 4,
  "vscode": {
   "interpreter": {
    "hash": "0cbc016b3f104e63808d511a6b25c0b91d1b3be1ded266572276e6efd4112fae"
   }
  }
 },
 "nbformat": 4,
 "nbformat_minor": 2
}
