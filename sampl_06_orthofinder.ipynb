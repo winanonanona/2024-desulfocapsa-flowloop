{
 "cells": [
  {
   "attachments": {},
   "cell_type": "markdown",
   "metadata": {},
   "source": [
    "# Comparing trimmed desulfocapsa\n",
    "Using ORTHOFINDER 2.5.5 https://genomebiology.biomedcentral.com/articles/10.1186/s13059-019-1832-y#Abs1\n"
   ]
  },
  {
   "cell_type": "code",
   "execution_count": null,
   "metadata": {
    "vscode": {
     "languageId": "shellscript"
    }
   },
   "outputs": [],
   "source": [
    "conda activate orthofinder\n",
    "\n",
    "orthofinder -t 32 -a 8 -o 09_MAGcompare/orthofinder_SRB_3/results_real -n default -f 09_MAGcompare/orthofinder_SRB_3/to_compare/\n"
   ]
  },
  {
   "cell_type": "code",
   "execution_count": null,
   "metadata": {
    "vscode": {
     "languageId": "shellscript"
    }
   },
   "outputs": [],
   "source": [
    "conda deactivate\n",
    "conda activate binning\n",
    "\n",
    "MagicLamp.py FeGenie -bin_dir 09_MAGcompare/orthofinder_SRB/to_compare -bin_ext faa -out 09_MAGcompare/orthofinder_SRB/fegenieML --orfs --meta --all_results -t 32\n",
    "MagicLamp.py LithoGenie -bin_dir 09_MAGcompare/orthofinder_SRB/to_compare -bin_ext faa -out 09_MAGcompare/orthofinder_SRB/lithogenieML --orfs --meta --all_results -t 32\n",
    "MagicLamp.py LithoGenie -bin_dir 09_MAGcompare/orthofinder_SRB/to_compare -bin_ext faa -out 09_MAGcompare/orthofinder_SRB/lithogenieML --orfs --meta --all_results -t 32 -cat sulfur --skip\n",
    "\n"
   ]
  }
 ],
 "metadata": {
  "language_info": {
   "name": "python"
  },
  "orig_nbformat": 4
 },
 "nbformat": 4,
 "nbformat_minor": 2
}
