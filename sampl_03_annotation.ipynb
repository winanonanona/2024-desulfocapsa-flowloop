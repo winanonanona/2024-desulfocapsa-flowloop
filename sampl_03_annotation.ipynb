{
 "cells": [
  {
   "attachments": {},
   "cell_type": "markdown",
   "metadata": {},
   "source": [
    "# What To Do\n",
    "CheckM version 1.1.2 <br>\n",
    "GTDB-TK v1.4.0"
   ]
  },
  {
   "attachments": {},
   "cell_type": "markdown",
   "metadata": {},
   "source": [
    "https://merenlab.org/2016/06/18/importing-taxonomy/ <br>\n",
    "https://merenlab.org/2016/06/18/importing-functions/#prokka <br>\n",
    "https://waoverholt.com/current-MAG-protocol/#taxonomic-annotation-of-bins <br>\n",
    "https://ecogenomics.github.io/GTDBTk/examples/classify_wf.html <br>\n",
    "https://merenlab.org/2016/06/22/anvio-tutorial-v2/"
   ]
  },
  {
   "attachments": {},
   "cell_type": "markdown",
   "metadata": {},
   "source": [
    "# Gene prediction and Annotation\n",
    "- find ORFs from MAGs <br>\n",
    "- map reads to ORFs\n",
    "- import bam file to R\n",
    "- get RPKM values\n",
    "- do deseq\n",
    "\n",
    "[1] eggNOG-mapper v2: functional annotation, orthology assignments, and domain \n",
    "      prediction at the metagenomic scale. Carlos P. Cantalapiedra, \n",
    "      Ana Hernandez-Plaza, Ivica Letunic, Peer Bork, Jaime Huerta-Cepas. 2021.\n",
    "      Molecular Biology and Evolution, msab293, https://doi.org/10.1093/molbev/msab293\n",
    "\n",
    "[2] eggNOG 5.0: a hierarchical, functionally and phylogenetically annotated\n",
    "      orthology resource based on 5090 organisms and 2502 viruses. Jaime\n",
    "      Huerta-Cepas, Damian Szklarczyk, Davide Heller, Ana Hernandez-Plaza,\n",
    "      Sofia K Forslund, Helen Cook, Daniel R Mende, Ivica Letunic, Thomas\n",
    "      Rattei, Lars J Jensen, Christian von Mering and Peer Bork. Nucleic Acids\n",
    "      Research, Volume 47, Issue D1, 8 January 2019, Pages D309-D314,\n",
    "      https://doi.org/10.1093/nar/gky1085 \n",
    "\n",
    "[3] Sensitive protein alignments at tree-of-life scale using DIAMOND.\n",
    "       Buchfink B, Reuter K, Drost HG. 2021.\n",
    "       Nature Methods 18, 366–368 (2021). https://doi.org/10.1038/s41592-021-01101-x\n",
    "\n",
    "[4] Prodigal: prokaryotic gene recognition and translation initiation site identification.\n",
    "       Hyatt et al. 2010. BMC Bioinformatics 11, 119. https://doi.org/10.1186/1471-2105-11-119.\n",
    "\n",
    "e.g. Functional annotation was performed using eggNOG-mapper (version emapper-2.1.10) [1]\n",
    " based on eggNOG orthology data [2]. Sequence searches were performed using [3]. Gene prediction was performed using [4]."
   ]
  },
  {
   "cell_type": "code",
   "execution_count": null,
   "metadata": {
    "vscode": {
     "languageId": "shellscript"
    }
   },
   "outputs": [],
   "source": [
    "conda deactivate\n",
    "conda activate emapper-gff\n",
    "\n",
    "\n",
    "mkdir 08_annotation_trimmed/eggnog\n",
    "\n",
    "for bin in $(find 05_binning/aa_FINAL_04_TRIMMED_CONFIRM/ -name \"*.fa\" -type f); do\n",
    "    file_name=$(basename $bin)\n",
    "    bin_name=${file_name%.*}\n",
    "    \n",
    "    emapper.py -i $bin \\\n",
    "    --itype genome --genepred prodigal --cpu 32 \\\n",
    "     -m diamond --data_dir $EGGNOG_DATA_DIR \\\n",
    "    --output $bin_name --output_dir 08_annotation_trimmed/eggnog --decorate_gff yes --override\n",
    "done\n"
   ]
  },
  {
   "attachments": {},
   "cell_type": "markdown",
   "metadata": {},
   "source": [
    "# MagicLamp\n",
    "Get iron & sulfur metabolism genes"
   ]
  },
  {
   "cell_type": "code",
   "execution_count": null,
   "metadata": {
    "vscode": {
     "languageId": "shellscript"
    }
   },
   "outputs": [],
   "source": [
    "conda deactivate\n",
    "conda activate binning\n",
    "\n",
    "MagicLamp.py FeGenie -bin_dir 08_annotation_trimmed/eggnog/ -bin_ext fasta -out 08_annotation_trimmed/eggnog_fegenieML --orfs --meta --all_results -t 32\n",
    "MagicLamp.py LithoGenie -bin_dir 08_annotation_trimmed/eggnog/ -bin_ext fasta -out 08_annotation_trimmed/eggnog_lithogenieML --orfs --meta --all_results -t 32\n",
    "MagicLamp.py LithoGenie -bin_dir 08_annotation_trimmed/eggnog/ -bin_ext fasta -out 08_annotation_trimmed/eggnog_lithogenieML --orfs --meta --all_results -t 32 -cat sulfur --skip\n",
    "\n"
   ]
  },
  {
   "attachments": {},
   "cell_type": "markdown",
   "metadata": {},
   "source": [
    "# Mapping\n",
    "## Reads to Contigs"
   ]
  },
  {
   "cell_type": "code",
   "execution_count": null,
   "metadata": {
    "vscode": {
     "languageId": "shellscript"
    }
   },
   "outputs": [],
   "source": [
    "# combine MAGs\n",
    "\n",
    "cat 05_binning/aa_FINAL_04_TRIMMED_CONFIRM/*.fa > 08_annotation_trimmed/FINAL_MAGs.fasta\n",
    "\n",
    "mkdir 08_annotation_trimmed/eggnog_mapped #eggnog mapped\n",
    "#conda deactivate\n",
    "# map reads per sample to genes\n",
    "for barcode in $(find /data/WINONA/202208_exxon_fastq/ -maxdepth 1 -name \"sample*\" -type f); do\n",
    "    file_name=$(basename $barcode)\n",
    "    sample_name=${file_name%.*}\n",
    "    MAGs=08_annotation_trimmed/FINAL_MAGs.fasta\n",
    "\n",
    "    mapped=./08_annotation_trimmed/eggnog_mapped/${sample_name}_mapped.sam\n",
    "    bam_raw=./08_annotation_trimmed/eggnog_mapped/${sample_name}_raw.bam\n",
    "    bam_sorted=./08_annotation_trimmed/eggnog_mapped/${sample_name}_sorted.bam\n",
    "    bam_indexed=./08_annotation_trimmed/eggnog_mapped/${sample_name}_sorted.bam.bai\n",
    "    \n",
    "    echo $sample_name\n",
    "\n",
    "    minimap2 -ax map-ont $MAGs $barcode -t 64 > $mapped\n",
    "    samtools view -o $bam_raw -F 4 -@ 64 -bS $mapped \n",
    "    samtools sort -o $bam_sorted -@ 64 $bam_raw \n",
    "    samtools index -b -@ 64 $bam_sorted $bam_indexed \n",
    "done\n"
   ]
  },
  {
   "attachments": {},
   "cell_type": "markdown",
   "metadata": {},
   "source": [
    "## Get each gene's counts from gff"
   ]
  },
  {
   "cell_type": "code",
   "execution_count": null,
   "metadata": {
    "vscode": {
     "languageId": "shellscript"
    }
   },
   "outputs": [],
   "source": [
    "# feature counts from gff & bam\n",
    "# https://youngleebbs.gitbook.io/bioinfo-training/part-ii/2.-construction-of-expression-matrix#2.2-quantify-gene-expression\n",
    "# featureCounts v2.0.1\n",
    "\n",
    "conda deactivate\n",
    "conda activate binning\n",
    "\n",
    "for annot in $(find 08_annotation_trimmed/eggnog/ -name \"*genepred.gff\" -type f); do\n",
    "    file_name=$(basename $annot)\n",
    "    bin_name=${file_name%.*}\n",
    "    bin_name=${bin_name%.*}\n",
    "    bin_name=${bin_name%.*}\n",
    "\n",
    "    output=08_annotation_trimmed/eggnog_mapped/$bin_name-counts\n",
    "\n",
    "    featureCounts -t CDS -g 'ID' -T 32 -L -f -O \\\n",
    "        -a $annot \\\n",
    "        -o $output \\\n",
    "        08_annotation_trimmed/eggnog_mapped/sample*_sorted.bam\n",
    "done\n",
    "\n",
    "\n",
    "# -f     Perform read counting at feature level (eg. counting reads for exons rather than genes).\n",
    "# -O     Assign reads to all their overlapping meta-features (or features if -f is specified).\n",
    "# -M     Multi-mapping reads will also be counted. For a multi-mapping read, all its reported alignments will be counted. The 'NH' tag in BAM/SAM input is used to detect multi-mapping reads.\n",
    "# -L     Count long reads such as Nanopore and PacBio reads. Long read counting can only run in one thread and only reads (not read-pairs) can be counted. There is no limitation on the number of 'M' operations allowed in a CIGAR string in long read counting.\n"
   ]
  },
  {
   "attachments": {},
   "cell_type": "markdown",
   "metadata": {},
   "source": [
    "# CoverM\n",
    "Get coverage files\n",
    "https://github.com/wwood/CoverM#calculation-methods <br>\n",
    "https://wwood.github.io/CoverM/coverm-genome.html#coverage-calculation-options\n"
   ]
  },
  {
   "cell_type": "code",
   "execution_count": null,
   "metadata": {
    "vscode": {
     "languageId": "shellscript"
    }
   },
   "outputs": [],
   "source": [
    "mkdir 08_annotation_trimmed/final_TRIMMED_bins_coverage/\n",
    "coverm genome \\\n",
    "    --bam-files 08_annotation_trimmed/eggnog_mapped/sample*_sorted.bam \\\n",
    "    --genome-fasta-directory 05_binning/aa_FINAL_04_TRIMMED_CONFIRM/ \\\n",
    "    --methods relative_abundance -x fa -t 32 \\\n",
    "    --output-file 08_annotation_trimmed/final_TRIMMED_bins_coverage/relative_abundance.tsv\n",
    "\n",
    "coverm genome \\\n",
    "    --bam-files 08_annotation_trimmed/eggnog_mapped/sample*_sorted.bam \\\n",
    "    --genome-fasta-directory 05_binning/aa_FINAL_04_TRIMMED_CONFIRM/ \\\n",
    "    --methods variance -x fa -t 32 \\\n",
    "    --output-file 08_annotation_trimmed/final_TRIMMED_bins_coverage/variance.tsv\n",
    "\n",
    "coverm genome \\\n",
    "    --bam-files 08_annotation_trimmed/eggnog_mapped/sample*_sorted.bam \\\n",
    "    --genome-fasta-directory 05_binning/aa_FINAL_04_TRIMMED_CONFIRM/ \\\n",
    "    --methods mean -x fa -t 32 \\\n",
    "    --output-file 08_annotation_trimmed/final_TRIMMED_bins_coverage/mean.tsv\n",
    "\n"
   ]
  },
  {
   "attachments": {},
   "cell_type": "markdown",
   "metadata": {},
   "source": [
    "# On DSM10523"
   ]
  },
  {
   "cell_type": "code",
   "execution_count": null,
   "metadata": {
    "vscode": {
     "languageId": "shellscript"
    }
   },
   "outputs": [],
   "source": [
    "# annotation\n",
    "conda deactivate\n",
    "conda activate emapper-gff\n",
    "\n",
    "emapper.py -i 09_MAGcompare/Desulfocapsa_sulfexigens_DSM10523_GCF_000341395.fasta \\\n",
    "    --itype genome --genepred prodigal --cpu 32 \\\n",
    "     -m diamond --data_dir $EGGNOG_DATA_DIR \\\n",
    "    --output DSM10523 --output_dir 09_MAGcompare --decorate_gff yes\n",
    "\n",
    "# FeGenie\n",
    "conda deactivate\n",
    "conda activate binning\n",
    "mkdir 09_MAGcompare/DSM10523_fegenie\n",
    "FeGenie.py -bin_dir 09_MAGcompare/ -bin_ext fasta -out 09_MAGcompare/DSM10523_fegenie --orfs --meta --all_results --heme --hematite --makeplots -t 16\n"
   ]
  },
  {
   "attachments": {},
   "cell_type": "markdown",
   "metadata": {},
   "source": [
    "# Find HGT genes\n",
    "using HGTector2"
   ]
  },
  {
   "cell_type": "code",
   "execution_count": null,
   "metadata": {
    "vscode": {
     "languageId": "shellscript"
    }
   },
   "outputs": [],
   "source": [
    "conda activate hgtector\n",
    "\n",
    "hgtector search -i 08_annotation_trimmed/eggnog/binsanity_sample06.txt.002.emapper.genepred.fasta -o 08_annotation_trimmed/eggnog_HGTector -m diamond -p 32 \\\n",
    "    -d /data/WINONA/common_bioinformatics/database/hgtdb_20230102/diamond/db.dmnd \\\n",
    "    -t /data/WINONA/common_bioinformatics/database/hgtdb_20230102/taxdump\n",
    "\n",
    "hgtector analyze \\\n",
    "    -i 08_annotation_trimmed/eggnog_HGTector/search \\\n",
    "    -o 08_annotation_trimmed/eggnog_HGTector/analyse \\\n",
    "    -t /data/WINONA/common_bioinformatics/database/hgtdb_20230102/taxdump"
   ]
  },
  {
   "cell_type": "code",
   "execution_count": null,
   "metadata": {
    "vscode": {
     "languageId": "shellscript"
    }
   },
   "outputs": [],
   "source": [
    "/data3/WINONA3/202208_exxon_sepsamples/10_trimming/binsanity_sample06.txt.002_contigs\n",
    "\n",
    "grf-main \\\n",
    "    -i 10_trimming/binsanity_sample06.txt.002_contigs/Utg323392.fa \\\n",
    "    -o 09_MAGcompare/binsanity_06_002_grf \\\n",
    "    -c 0 --min_tr 10 --max_space 15000 -t 32\n"
   ]
  }
 ],
 "metadata": {
  "kernelspec": {
   "display_name": "Bash",
   "language": "bash",
   "name": "bash"
  },
  "language_info": {
   "codemirror_mode": "shell",
   "file_extension": ".sh",
   "mimetype": "text/x-sh",
   "name": "bash"
  }
 },
 "nbformat": 4,
 "nbformat_minor": 4
}
